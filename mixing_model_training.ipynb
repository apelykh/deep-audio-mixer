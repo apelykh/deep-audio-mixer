{
 "cells": [
  {
   "cell_type": "code",
   "execution_count": 1,
   "metadata": {},
   "outputs": [
    {
     "name": "stderr",
     "output_type": "stream",
     "text": [
      "/home/apelykh/.virtualenvs/pytorch-audio/lib/python3.6/site-packages/librosa/util/decorators.py:9: NumbaDeprecationWarning: An import was requested from a module that has moved location.\n",
      "Import of 'jit' requested from: 'numba.decorators', please update to use 'numba.core.decorators' or pin to Numba version 0.48.0. This alias will not be present in Numba version 0.50.0.\n",
      "  from numba.decorators import jit as optional_jit\n"
     ]
    }
   ],
   "source": [
    "import os\n",
    "import librosa\n",
    "import librosa.display\n",
    "import matplotlib.pyplot as plt\n",
    "import IPython.display as ipd\n",
    "import torch\n",
    "import numpy as np\n",
    "from torch.utils.data import DataLoader\n",
    "\n",
    "from model_scalar import MixingModelScalar\n",
    "from model_vector import MixingModelVector\n",
    "from dataset import MultitrackAudioDataset\n",
    "from medleydb_split import train_songlist\n",
    "\n",
    "%load_ext autoreload\n",
    "%autoreload 2"
   ]
  },
  {
   "cell_type": "code",
   "execution_count": 2,
   "metadata": {},
   "outputs": [
    {
     "name": "stdout",
     "output_type": "stream",
     "text": [
      "Torch version:  1.4.0\n",
      "Device:  cuda\n",
      "7603\n"
     ]
    }
   ],
   "source": [
    "device = torch.device(\"cuda\" if torch.cuda.is_available() else \"cpu\")\n",
    "print('Torch version: ', torch.__version__)\n",
    "print('Device: ', device)\n",
    "\n",
    "print(torch.backends.cudnn.version())\n",
    "torch.backends.cudnn.benchmark = True"
   ]
  },
  {
   "cell_type": "code",
   "execution_count": 3,
   "metadata": {},
   "outputs": [],
   "source": [
    "base_path = '/media/apelykh/bottomless-pit/datasets/mixing/MedleyDB/Audio'\n",
    "weights_dir = './weights'\n",
    "seed = 321\n",
    "chunk_length = 1"
   ]
  },
  {
   "cell_type": "code",
   "execution_count": 4,
   "metadata": {},
   "outputs": [
    {
     "name": "stdout",
     "output_type": "stream",
     "text": [
      "Train: 34 tracks, 9147 chunks\n",
      "Val: 4 tracks, 1070 chunks\n"
     ]
    }
   ],
   "source": [
    "d_train = MultitrackAudioDataset(\n",
    "    base_path,\n",
    "    songlist=train_songlist,\n",
    "    chunk_length=chunk_length,\n",
    "    train_val_test_split=(0.9, 0.1, 0.0),\n",
    "    mode='train',\n",
    "    seed=seed\n",
    ")\n",
    "\n",
    "d_val = MultitrackAudioDataset(\n",
    "    base_path,\n",
    "    songlist=train_songlist,\n",
    "    chunk_length=chunk_length,\n",
    "    train_val_test_split=(0.9, 0.1, 0.0),\n",
    "    mode='val',\n",
    "    seed=seed\n",
    ")\n",
    "\n",
    "print('Train: {} tracks, {} chunks'.format(d_train.get_num_songs(), len(d_train)))\n",
    "print('Val: {} tracks, {} chunks'.format(d_val.get_num_songs(), len(d_val)))"
   ]
  },
  {
   "cell_type": "code",
   "execution_count": 5,
   "metadata": {},
   "outputs": [],
   "source": [
    "train_loader = DataLoader(d_train, batch_size=256, shuffle=False,\n",
    "                          num_workers=0, collate_fn=None,\n",
    "                          pin_memory=True, drop_last=False, timeout=0,\n",
    "                          worker_init_fn=None)\n",
    "\n",
    "val_loader = DataLoader(d_val, batch_size=266, shuffle=False,\n",
    "                        num_workers=0, collate_fn=None,\n",
    "                        pin_memory=True, drop_last=False, timeout=0,\n",
    "                        worker_init_fn=None)"
   ]
  },
  {
   "cell_type": "markdown",
   "metadata": {},
   "source": [
    "---\n",
    "## Defining and training the model"
   ]
  },
  {
   "cell_type": "code",
   "execution_count": 6,
   "metadata": {},
   "outputs": [],
   "source": [
    "def train_model(model, criterion, optimizer, start_epoch, num_epochs, name):\n",
    "    train_loss = []\n",
    "    val_loss = []\n",
    "\n",
    "    for epoch in range(start_epoch, start_epoch + num_epochs):\n",
    "        running_loss = 0.0\n",
    "\n",
    "        for i, batch in enumerate(train_loader):\n",
    "            optimizer.zero_grad()\n",
    "\n",
    "            masked, masks = model(batch['train_features'].to(device))\n",
    "            loss = criterion(masked, batch['gt_features'].to(device))\n",
    "            loss.backward()\n",
    "            optimizer.step()\n",
    "\n",
    "            each_n_batches = 10\n",
    "            if i % each_n_batches == each_n_batches - 1:\n",
    "                print('[%d, %4d] loss: %.3f' % (epoch, i + 1, loss.item()))\n",
    "\n",
    "            running_loss += loss.item()\n",
    "            \n",
    "        avg_epoch_loss = running_loss / len(train_loader)\n",
    "        print('Epoch {} train loss: {:.4f}'.format(epoch, avg_epoch_loss))\n",
    "        train_loss.append(avg_epoch_loss)\n",
    "        \n",
    "        # ---------------------------------------------------------------\n",
    "        # validation\n",
    "        running_val_loss = 0.0\n",
    "\n",
    "        with torch.no_grad():\n",
    "            for i, batch in enumerate(val_loader):\n",
    "                masked, masks = model(batch['train_features'].to(device))\n",
    "                loss = criterion(masked, batch['gt_features'].to(device))\n",
    "                running_val_loss += loss.item()\n",
    "\n",
    "        avg_epoch_val_loss = running_val_loss / len(val_loader)\n",
    "        print('Epoch {} val loss: {:.4f}'.format(epoch, avg_epoch_val_loss))\n",
    "        val_loss.append(avg_epoch_val_loss)\n",
    "        print('-' * 50)\n",
    "\n",
    "        if epoch % 2 == 0:\n",
    "            weights_file = os.path.join(weights_dir,\n",
    "                'mixmodel_{}_1s_{:04d}_{:.4f}.pt'.format(name, epoch, avg_epoch_loss)) \n",
    "            torch.save(model.state_dict(), weights_file)\n",
    "    \n",
    "    return train_loss, val_loss"
   ]
  },
  {
   "cell_type": "markdown",
   "metadata": {},
   "source": [
    "### Model 1: predicting scalar gain coefficients for each track"
   ]
  },
  {
   "cell_type": "code",
   "execution_count": 6,
   "metadata": {},
   "outputs": [
    {
     "name": "stdout",
     "output_type": "stream",
     "text": [
      "38576 trainable parameters\n"
     ]
    }
   ],
   "source": [
    "model_scalar = MixingModelScalar().to(device)\n",
    "\n",
    "num_trainable_param = sum(p.numel() for p in model_scalar.parameters() if p.requires_grad)\n",
    "print('{} trainable parameters'.format(num_trainable_param))"
   ]
  },
  {
   "cell_type": "code",
   "execution_count": 14,
   "metadata": {},
   "outputs": [
    {
     "data": {
      "text/plain": [
       "<All keys matched successfully>"
      ]
     },
     "execution_count": 14,
     "metadata": {},
     "output_type": "execute_result"
    }
   ],
   "source": [
    "# load weights if we want to continue training\n",
    "# weights = './weights/mixmodel_scalar_1s_0006_0.0849.pt'\n",
    "# model_scalar.load_state_dict(torch.load(weights, map_location=device))"
   ]
  },
  {
   "cell_type": "code",
   "execution_count": null,
   "metadata": {},
   "outputs": [],
   "source": [
    "criterion = torch.nn.MSELoss()\n",
    "optimizer = torch.optim.Adam(model_scalar.parameters(), weight_decay=1e-5)"
   ]
  },
  {
   "cell_type": "code",
   "execution_count": 9,
   "metadata": {
    "scrolled": false
   },
   "outputs": [
    {
     "name": "stdout",
     "output_type": "stream",
     "text": [
      "[0,   10] loss: 0.190\n",
      "[0,   20] loss: 0.194\n",
      "[0,   30] loss: 0.156\n",
      "Epoch 0 train loss: 0.5252\n",
      "Epoch 0 val loss: 0.1567\n",
      "--------------------------------------------------\n",
      "[1,   10] loss: 0.092\n",
      "[1,   20] loss: 0.112\n",
      "[1,   30] loss: 0.133\n",
      "Epoch 1 train loss: 0.1390\n",
      "Epoch 1 val loss: 0.1102\n",
      "--------------------------------------------------\n",
      "[2,   10] loss: 0.089\n",
      "[2,   20] loss: 0.074\n",
      "[2,   30] loss: 0.069\n",
      "Epoch 2 train loss: 0.0950\n",
      "Epoch 2 val loss: 0.1088\n",
      "--------------------------------------------------\n",
      "[3,   10] loss: 0.143\n",
      "[3,   20] loss: 0.078\n",
      "[3,   30] loss: 0.082\n",
      "Epoch 3 train loss: 0.1105\n",
      "Epoch 3 val loss: 0.0988\n",
      "--------------------------------------------------\n",
      "[4,   10] loss: 0.081\n",
      "[4,   20] loss: 0.064\n",
      "[4,   30] loss: 0.092\n",
      "Epoch 4 train loss: 0.1091\n",
      "Epoch 4 val loss: 0.0863\n",
      "--------------------------------------------------\n",
      "[5,   10] loss: 0.054\n",
      "[5,   20] loss: 0.089\n",
      "[5,   30] loss: 0.068\n",
      "Epoch 5 train loss: 0.0799\n",
      "Epoch 5 val loss: 0.0737\n",
      "--------------------------------------------------\n",
      "[6,   10] loss: 0.042\n",
      "[6,   20] loss: 0.115\n",
      "[6,   30] loss: 0.089\n",
      "Epoch 6 train loss: 0.0849\n",
      "Epoch 6 val loss: 0.0721\n",
      "--------------------------------------------------\n",
      "[7,   10] loss: 0.058\n",
      "[7,   20] loss: 0.101\n",
      "[7,   30] loss: 0.093\n",
      "Epoch 7 train loss: 0.0842\n",
      "Epoch 7 val loss: 0.1162\n",
      "--------------------------------------------------\n",
      "[8,   10] loss: 0.131\n",
      "[8,   20] loss: 0.072\n",
      "[8,   30] loss: 0.063\n",
      "Epoch 8 train loss: 0.0853\n",
      "Epoch 8 val loss: 0.1855\n",
      "--------------------------------------------------\n",
      "[9,   10] loss: 0.178\n",
      "[9,   20] loss: 0.074\n",
      "[9,   30] loss: 0.065\n",
      "Epoch 9 train loss: 0.0988\n",
      "Epoch 9 val loss: 0.1759\n",
      "--------------------------------------------------\n",
      "[10,   10] loss: 0.091\n",
      "[10,   20] loss: 0.097\n",
      "[10,   30] loss: 0.069\n",
      "Epoch 10 train loss: 0.0997\n",
      "Epoch 10 val loss: 0.2192\n",
      "--------------------------------------------------\n",
      "[11,   10] loss: 0.064\n",
      "[11,   20] loss: 0.107\n",
      "[11,   30] loss: 0.094\n",
      "Epoch 11 train loss: 0.0965\n",
      "Epoch 11 val loss: 0.1997\n",
      "--------------------------------------------------\n",
      "[12,   10] loss: 0.051\n",
      "[12,   20] loss: 0.179\n",
      "[12,   30] loss: 0.074\n",
      "Epoch 12 train loss: 0.1048\n",
      "Epoch 12 val loss: 0.2050\n",
      "--------------------------------------------------\n",
      "[13,   10] loss: 0.050\n",
      "[13,   20] loss: 0.259\n",
      "[13,   30] loss: 0.072\n",
      "Epoch 13 train loss: 0.1200\n",
      "Epoch 13 val loss: 0.1177\n",
      "--------------------------------------------------\n",
      "[14,   10] loss: 0.112\n",
      "[14,   20] loss: 0.271\n",
      "[14,   30] loss: 0.094\n",
      "Epoch 14 train loss: 0.1189\n",
      "Epoch 14 val loss: 0.0551\n",
      "--------------------------------------------------\n"
     ]
    }
   ],
   "source": [
    "start_epoch = 0\n",
    "num_epochs = 15\n",
    "train_loss1, val_loss1 = train_model(model_scalar, criterion, optimizer, start_epoch, num_epochs, 'scalar')"
   ]
  },
  {
   "cell_type": "code",
   "execution_count": 16,
   "metadata": {},
   "outputs": [],
   "source": [
    "weights_file = os.path.join(weights_dir, 'mixmodel_scalar_1s_{:04d}_{:.3f}.pt'.format(num_epochs, 0.0551)) \n",
    "torch.save(model_scalar.state_dict(), weights_file)"
   ]
  },
  {
   "cell_type": "code",
   "execution_count": 10,
   "metadata": {},
   "outputs": [
    {
     "data": {
      "image/png": "[encoded data removed]",
      "text/plain": [
       "<Figure size 504x360 with 1 Axes>"
      ]
     },
     "metadata": {
      "needs_background": "light"
     },
     "output_type": "display_data"
    }
   ],
   "source": [
    "plt.figure(figsize=(7,5))\n",
    "plt.plot(train_loss1, label='Train loss')\n",
    "plt.plot(val_loss1, label='Val loss')\n",
    "plt.xlabel('Epochs')\n",
    "plt.ylabel('Loss');\n",
    "plt.xlim(0, 0 + num_epochs)\n",
    "plt.legend()\n",
    "plt.tight_layout()\n",
    "plt.savefig('{}/loss.png'.format(weights_dir))"
   ]
  },
  {
   "cell_type": "markdown",
   "metadata": {},
   "source": [
    "``` There is a confusing growth of the validation loss during epochs 7-12 and a logical decision would be to use the weights from epoch 6. I tried weights at epochs 6 and 14 and they don't seem to produce drastically different results.```"
   ]
  },
  {
   "cell_type": "markdown",
   "metadata": {},
   "source": [
    "---\n",
    "### Model 2: predicting 1d gain masks for each track"
   ]
  },
  {
   "cell_type": "code",
   "execution_count": 7,
   "metadata": {},
   "outputs": [
    {
     "name": "stdout",
     "output_type": "stream",
     "text": [
      "129892 trainable parameters\n"
     ]
    }
   ],
   "source": [
    "model_vector = MixingModelVector().to(device)\n",
    "\n",
    "num_trainable_param = sum(p.numel() for p in model_vector.parameters() if p.requires_grad)\n",
    "print('{} trainable parameters'.format(num_trainable_param))"
   ]
  },
  {
   "cell_type": "code",
   "execution_count": 8,
   "metadata": {},
   "outputs": [
    {
     "data": {
      "text/plain": [
       "<All keys matched successfully>"
      ]
     },
     "execution_count": 8,
     "metadata": {},
     "output_type": "execute_result"
    }
   ],
   "source": [
    "# load weights if we want to continue training\n",
    "weights = './weights/mixmodel_vector_1s_0006_0.0443.pt'\n",
    "model_vector.load_state_dict(torch.load(weights, map_location=device))"
   ]
  },
  {
   "cell_type": "code",
   "execution_count": 9,
   "metadata": {},
   "outputs": [],
   "source": [
    "criterion = torch.nn.MSELoss()\n",
    "optimizer = torch.optim.Adam(model_vector.parameters(), weight_decay=1e-5)"
   ]
  },
  {
   "cell_type": "code",
   "execution_count": 9,
   "metadata": {},
   "outputs": [
    {
     "name": "stderr",
     "output_type": "stream",
     "text": [
      "/home/apelykh/.virtualenvs/pytorch-audio/lib/python3.6/site-packages/torch/nn/functional.py:2506: UserWarning: Default upsampling behavior when mode=linear is changed to align_corners=False since 0.4.0. Please specify align_corners=True if the old behavior is desired. See the documentation of nn.Upsample for details.\n",
      "  \"See the documentation of nn.Upsample for details.\".format(mode))\n"
     ]
    },
    {
     "name": "stdout",
     "output_type": "stream",
     "text": [
      "[0,   10] loss: 0.081\n",
      "[0,   20] loss: 0.106\n",
      "[0,   30] loss: 0.063\n",
      "Epoch 0 train loss: 0.0894\n",
      "Epoch 0 val loss: 0.0754\n",
      "--------------------------------------------------\n",
      "[1,   10] loss: 0.051\n",
      "[1,   20] loss: 0.065\n",
      "[1,   30] loss: 0.049\n",
      "Epoch 1 train loss: 0.0544\n",
      "Epoch 1 val loss: 0.0796\n",
      "--------------------------------------------------\n",
      "[2,   10] loss: 0.046\n",
      "[2,   20] loss: 0.059\n",
      "[2,   30] loss: 0.063\n",
      "Epoch 2 train loss: 0.0524\n",
      "Epoch 2 val loss: 0.0710\n",
      "--------------------------------------------------\n",
      "[3,   10] loss: 0.037\n",
      "[3,   20] loss: 0.072\n",
      "[3,   30] loss: 0.048\n",
      "Epoch 3 train loss: 0.0498\n",
      "Epoch 3 val loss: 0.0650\n",
      "--------------------------------------------------\n",
      "[4,   10] loss: 0.033\n",
      "[4,   20] loss: 0.078\n",
      "[4,   30] loss: 0.054\n",
      "Epoch 4 train loss: 0.0515\n",
      "Epoch 4 val loss: 0.0696\n",
      "--------------------------------------------------\n",
      "[5,   10] loss: 0.036\n",
      "[5,   20] loss: 0.080\n",
      "[5,   30] loss: 0.067\n",
      "Epoch 5 train loss: 0.0513\n",
      "Epoch 5 val loss: 0.0431\n",
      "--------------------------------------------------\n",
      "[6,   10] loss: 0.036\n",
      "[6,   20] loss: 0.049\n",
      "[6,   30] loss: 0.060\n",
      "Epoch 6 train loss: 0.0443\n",
      "Epoch 6 val loss: 0.0410\n",
      "--------------------------------------------------\n"
     ]
    }
   ],
   "source": [
    "start_epoch = 0\n",
    "num_epochs = 7\n",
    "train_loss2, val_loss2 = train_model(model_vector, criterion, optimizer, start_epoch, num_epochs, 'vector')"
   ]
  },
  {
   "cell_type": "code",
   "execution_count": 10,
   "metadata": {},
   "outputs": [
    {
     "data": {
      "image/png": "[encoded data removed]",
      "text/plain": [
       "<Figure size 504x360 with 1 Axes>"
      ]
     },
     "metadata": {
      "needs_background": "light"
     },
     "output_type": "display_data"
    }
   ],
   "source": [
    "plt.figure(figsize=(7,5))\n",
    "plt.plot(train_loss2, label='Train loss')\n",
    "plt.plot(val_loss2, label='Val loss')\n",
    "plt.xlabel('Epochs')\n",
    "plt.ylabel('Loss');\n",
    "plt.xlim(0, num_epochs)\n",
    "plt.legend()\n",
    "plt.tight_layout()\n",
    "plt.savefig('{}/loss.png'.format(weights_dir))"
   ]
  },
  {
   "cell_type": "markdown",
   "metadata": {},
   "source": [
    "``` From the graph above it seems like the model could benefit from more training as validation loss hasn't leveled. Let's try```"
   ]
  },
  {
   "cell_type": "code",
   "execution_count": 10,
   "metadata": {},
   "outputs": [
    {
     "name": "stderr",
     "output_type": "stream",
     "text": [
      "/home/apelykh/.virtualenvs/pytorch-audio/lib/python3.6/site-packages/torch/nn/functional.py:2506: UserWarning: Default upsampling behavior when mode=linear is changed to align_corners=False since 0.4.0. Please specify align_corners=True if the old behavior is desired. See the documentation of nn.Upsample for details.\n",
      "  \"See the documentation of nn.Upsample for details.\".format(mode))\n"
     ]
    },
    {
     "name": "stdout",
     "output_type": "stream",
     "text": [
      "[7,   10] loss: 0.036\n",
      "[7,   20] loss: 0.085\n",
      "[7,   30] loss: 0.059\n",
      "Epoch 7 train loss: 0.0621\n",
      "Epoch 7 val loss: 0.0392\n",
      "--------------------------------------------------\n",
      "[8,   10] loss: 0.035\n",
      "[8,   20] loss: 0.066\n",
      "[8,   30] loss: 0.059\n",
      "Epoch 8 train loss: 0.0453\n",
      "Epoch 8 val loss: 0.0406\n",
      "--------------------------------------------------\n",
      "[9,   10] loss: 0.034\n",
      "[9,   20] loss: 0.054\n",
      "[9,   30] loss: 0.059\n",
      "Epoch 9 train loss: 0.0427\n",
      "Epoch 9 val loss: 0.0373\n",
      "--------------------------------------------------\n",
      "[10,   10] loss: 0.035\n",
      "[10,   20] loss: 0.057\n",
      "[10,   30] loss: 0.056\n",
      "Epoch 10 train loss: 0.0431\n",
      "Epoch 10 val loss: 0.0424\n",
      "--------------------------------------------------\n",
      "[11,   10] loss: 0.035\n",
      "[11,   20] loss: 0.055\n",
      "[11,   30] loss: 0.059\n",
      "Epoch 11 train loss: 0.0429\n",
      "Epoch 11 val loss: 0.0371\n",
      "--------------------------------------------------\n",
      "[12,   10] loss: 0.037\n",
      "[12,   20] loss: 0.052\n",
      "[12,   30] loss: 0.061\n",
      "Epoch 12 train loss: 0.0425\n",
      "Epoch 12 val loss: 0.0397\n",
      "--------------------------------------------------\n",
      "[13,   10] loss: 0.037\n",
      "[13,   20] loss: 0.050\n",
      "[13,   30] loss: 0.048\n",
      "Epoch 13 train loss: 0.0414\n",
      "Epoch 13 val loss: 0.0408\n",
      "--------------------------------------------------\n"
     ]
    }
   ],
   "source": [
    "start_epoch = 7\n",
    "num_epochs = 7\n",
    "train_loss3, val_loss3 = train_model(model_vector, criterion, optimizer, start_epoch, num_epochs, 'vector')"
   ]
  },
  {
   "cell_type": "code",
   "execution_count": 15,
   "metadata": {},
   "outputs": [],
   "source": [
    "weights_file = os.path.join(weights_dir, 'mixmodel_vector_1s_{:04d}_{:.4f}.pt'.format(13, 0.0414))\n",
    "torch.save(model_vector.state_dict(), weights_file)"
   ]
  },
  {
   "cell_type": "code",
   "execution_count": 14,
   "metadata": {},
   "outputs": [
    {
     "data": {
      "image/png": "[encoded data removed]",
      "text/plain": [
       "<Figure size 504x360 with 1 Axes>"
      ]
     },
     "metadata": {
      "needs_background": "light"
     },
     "output_type": "display_data"
    }
   ],
   "source": [
    "plt.figure(figsize=(7,5))\n",
    "plt.plot(train_loss2 + train_loss3, label='Train loss')\n",
    "plt.plot(val_loss2 + val_loss3, label='Val loss')\n",
    "plt.xlabel('Epochs')\n",
    "plt.ylabel('Loss');\n",
    "plt.xlim(0, 14)\n",
    "plt.legend()\n",
    "plt.tight_layout()\n",
    "plt.savefig('{}/loss.png'.format(weights_dir))"
   ]
  },
  {
   "cell_type": "code",
   "execution_count": null,
   "metadata": {},
   "outputs": [],
   "source": []
  }
 ],
 "metadata": {
  "kernelspec": {
   "display_name": "Python 3",
   "language": "python",
   "name": "python3"
  },
  "language_info": {
   "codemirror_mode": {
    "name": "ipython",
    "version": 3
   },
   "file_extension": ".py",
   "mimetype": "text/x-python",
   "name": "python",
   "nbconvert_exporter": "python",
   "pygments_lexer": "ipython3",
   "version": "3.6.9"
  }
 },
 "nbformat": 4,
 "nbformat_minor": 4
}
