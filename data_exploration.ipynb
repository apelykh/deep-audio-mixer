{
 "cells": [
  {
   "cell_type": "code",
   "execution_count": null,
   "metadata": {},
   "outputs": [],
   "source": [
    "import os\n",
    "import numpy as np\n",
    "import matplotlib.pyplot as plt\n",
    "import librosa\n",
    "import librosa.display\n",
    "import IPython.display as ipd\n",
    "\n",
    "%matplotlib inline"
   ]
  },
  {
   "cell_type": "markdown",
   "metadata": {},
   "source": [
    "## Compare groung-truth mixes to raw sums of multitracks "
   ]
  },
  {
   "cell_type": "code",
   "execution_count": null,
   "metadata": {},
   "outputs": [],
   "source": [
    "root_dir = '/media/apelykh/bottomless-pit/datasets/mixing/MedleyDB/Audio'\n",
    "song_name = 'TheDistricts_Vermont'"
   ]
  },
  {
   "cell_type": "code",
   "execution_count": null,
   "metadata": {},
   "outputs": [],
   "source": [
    "# GT mix\n",
    "mix_path = os.path.join(root_dir, song_name, '{}_MIX.wav'.format(song_name))\n",
    "mix, sr = librosa.load(mix_path, sr=44100)\n",
    "\n",
    "librosa.display.waveplot(mix)\n",
    "ipd.Audio(mix_path)"
   ]
  },
  {
   "cell_type": "code",
   "execution_count": null,
   "metadata": {},
   "outputs": [],
   "source": [
    "# summed stem tracks\n",
    "stems_path = os.path.join(root_dir, song_name, '{}_STEMS'.format(song_name))\n",
    "sum_track = np.zeros_like(mix)\n",
    "\n",
    "for track_name in os.listdir(stems_path):\n",
    "    track_path = os.path.join(stems_path, track_name)\n",
    "    track, sr = librosa.load(track_path, sr=44100)\n",
    "\n",
    "    print('Summing {}'.format(track_name))\n",
    "    sum_track += track\n",
    "\n",
    "librosa.display.waveplot(sum_track)\n",
    "ipd.Audio(sum_track, rate=sr)"
   ]
  },
  {
   "cell_type": "code",
   "execution_count": null,
   "metadata": {},
   "outputs": [],
   "source": []
  }
 ],
 "metadata": {
  "kernelspec": {
   "display_name": "Python 3",
   "language": "python",
   "name": "python3"
  },
  "language_info": {
   "codemirror_mode": {
    "name": "ipython",
    "version": 3
   },
   "file_extension": ".py",
   "mimetype": "text/x-python",
   "name": "python",
   "nbconvert_exporter": "python",
   "pygments_lexer": "ipython3",
   "version": "3.6.9"
  }
 },
 "nbformat": 4,
 "nbformat_minor": 4
}
